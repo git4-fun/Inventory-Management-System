{
  "nbformat": 4,
  "nbformat_minor": 0,
  "metadata": {
    "colab": {
      "name": "Purchasing_Products.ipynb",
      "provenance": []
    },
    "kernelspec": {
      "name": "python3",
      "display_name": "Python 3"
    },
    "language_info": {
      "name": "python"
    }
  },
  "cells": [
    {
      "cell_type": "markdown",
      "metadata": {
        "id": "57boUIhR98mS"
      },
      "source": [
        "Read Inventory"
      ]
    },
    {
      "cell_type": "code",
      "metadata": {
        "id": "x5fs7V-o-APX"
      },
      "source": [
        "import json\n",
        "import time\n",
        "\n",
        "fd = open(\"record.json\",'r')\n",
        "r = fd.read()\n",
        "fd.close()\n",
        "\n",
        "records = json.loads(r)"
      ],
      "execution_count": 3,
      "outputs": []
    },
    {
      "cell_type": "code",
      "metadata": {
        "colab": {
          "base_uri": "https://localhost:8080/"
        },
        "id": "oNeKLtrQ-Ohs",
        "outputId": "6519ea1d-3fed-4647-d790-8fcef0bfffb3"
      },
      "source": [
        "records"
      ],
      "execution_count": 2,
      "outputs": [
        {
          "output_type": "execute_result",
          "data": {
            "text/plain": [
              "{'12001': {'Exp-date': '5/22',\n",
              "  'name': 'Kit-kat',\n",
              "  'price': 20,\n",
              "  'quantity': 43,\n",
              "  'type': 'chocolate'},\n",
              " '12002': {'Exp-date': '6/22',\n",
              "  'name': '5-star',\n",
              "  'price': 5,\n",
              "  'quantity': 50,\n",
              "  'type': 'chocolate'},\n",
              " '12003': {'Exp-date': '5/22',\n",
              "  'name': 'Kit-kat',\n",
              "  'price': 10,\n",
              "  'quantity': 40,\n",
              "  'type': 'chocolate'},\n",
              " '12004': {'Exp-date': '9/21',\n",
              "  'name': 'Milk',\n",
              "  'price': 58,\n",
              "  'quantity': 41,\n",
              "  'type': 'milk-product'},\n",
              " '12005': {'Exp-date': '5/22',\n",
              "  'name': 'Drink',\n",
              "  'price': 20,\n",
              "  'quantity': 55,\n",
              "  'type': 'liquid'},\n",
              " '12006': {'Exp-date': '6/22',\n",
              "  'name': 'Parle-G',\n",
              "  'price': 5,\n",
              "  'quantity': 72,\n",
              "  'type': 'biscuit'},\n",
              " '12007': {'Exp-date': '5/22',\n",
              "  'name': 'Parle-G',\n",
              "  'price': 20,\n",
              "  'quantity': 50,\n",
              "  'type': 'biscuit'},\n",
              " '12008': {'Exp-date': '8/22',\n",
              "  'name': 'Bourbon',\n",
              "  'price': 10,\n",
              "  'quantity': 65,\n",
              "  'type': 'biscuit'},\n",
              " '12009': {'Exp-date': '7/22',\n",
              "  'name': 'Jim-Jam',\n",
              "  'price': 10,\n",
              "  'quantity': 62,\n",
              "  'type': 'biscuit'},\n",
              " '12010': {'Exp-date': '7/22',\n",
              "  'name': 'Jim-Jam',\n",
              "  'price': 20,\n",
              "  'quantity': 40,\n",
              "  'type': 'biscuit'},\n",
              " '12011': {'Exp-date': '5/22',\n",
              "  'name': 'Bread',\n",
              "  'price': 20,\n",
              "  'quantity': 30,\n",
              "  'type': 'snack'},\n",
              " '12012': {'Exp-date': '2/22',\n",
              "  'name': 'Kurkure',\n",
              "  'price': 5,\n",
              "  'quantity': 54,\n",
              "  'type': 'snack'},\n",
              " '12013': {'Exp-date': '2/22',\n",
              "  'name': 'kurkure',\n",
              "  'price': 10,\n",
              "  'quantity': 60,\n",
              "  'type': 'snack'},\n",
              " '12014': {'Exp-date': '5/22',\n",
              "  'name': 'Lays',\n",
              "  'price': 20,\n",
              "  'quantity': 44,\n",
              "  'type': 'snack'},\n",
              " '12015': {'Exp-date': '4/22',\n",
              "  'name': 'Lays',\n",
              "  'price': 10,\n",
              "  'quantity': 31,\n",
              "  'type': 'snack'},\n",
              " '12016': {'Exp-date': '3/22',\n",
              "  'name': 'Bingo',\n",
              "  'price': 20,\n",
              "  'quantity': 55,\n",
              "  'type': 'snack'},\n",
              " '12017': {'Exp-date': '9/22',\n",
              "  'name': 'Too-Yum',\n",
              "  'price': 20,\n",
              "  'quantity': 43,\n",
              "  'type': 'snack'},\n",
              " '12018': {'Exp-date': '4/22',\n",
              "  'name': 'Pringles',\n",
              "  'price': 20,\n",
              "  'quantity': 52,\n",
              "  'type': 'snack'},\n",
              " '12019': {'Exp-date': '8/22',\n",
              "  'name': 'Maxx',\n",
              "  'price': 20,\n",
              "  'quantity': 55,\n",
              "  'type': 'snack'},\n",
              " '12020': {'Exp-date': '10/21',\n",
              "  'name': 'cheese',\n",
              "  'price': 20,\n",
              "  'quantity': 38,\n",
              "  'type': 'milk-product'},\n",
              " '12021': {'Exp-date': '4/22',\n",
              "  'name': 'Butter',\n",
              "  'price': 20,\n",
              "  'quantity': 65,\n",
              "  'type': 'milk-product'},\n",
              " '12022': {'Exp-date': '6/22',\n",
              "  'name': 'Doritos',\n",
              "  'price': 20,\n",
              "  'quantity': 45,\n",
              "  'type': 'snack'},\n",
              " '12023': {'Exp-date': '5/22',\n",
              "  'name': 'Cadbury',\n",
              "  'price': 20,\n",
              "  'quantity': 40,\n",
              "  'type': 'chocolate'},\n",
              " '12024': {'Exp-date': '6/22',\n",
              "  'name': 'Cadbury',\n",
              "  'price': 10,\n",
              "  'quantity': 39,\n",
              "  'type': 'chocolate'},\n",
              " '12025': {'Exp-date': '5/22',\n",
              "  'name': 'Cadbury',\n",
              "  'price': 60,\n",
              "  'quantity': 25,\n",
              "  'type': 'chocolate'},\n",
              " '12026': {'Exp-date': '5/22',\n",
              "  'name': 'Milky-bar',\n",
              "  'price': 20,\n",
              "  'quantity': 45,\n",
              "  'type': 'chocolate'},\n",
              " '12027': {'Exp-date': '5/22',\n",
              "  'name': 'Solid-masti',\n",
              "  'price': 20,\n",
              "  'quantity': 25,\n",
              "  'type': 'snack'},\n",
              " '12028': {'Exp-date': '6/22',\n",
              "  'name': 'Mad-angles',\n",
              "  'price': 10,\n",
              "  'quantity': 58,\n",
              "  'type': 'snack'},\n",
              " '12029': {'Exp-date': '2/22',\n",
              "  'name': 'Perk',\n",
              "  'price': 5,\n",
              "  'quantity': 46,\n",
              "  'type': 'snack'},\n",
              " '12030': {'Exp-date': '8/22',\n",
              "  'name': 'Bourn-vita',\n",
              "  'price': 20,\n",
              "  'quantity': 38,\n",
              "  'type': 'snack'},\n",
              " '12031': {'Exp-date': '4/22',\n",
              "  'name': 'Butter',\n",
              "  'price': 20,\n",
              "  'quantity': 397,\n",
              "  'type': 'milk-product'},\n",
              " '12032': {'Exp-date': '4/22',\n",
              "  'name': 'Candy',\n",
              "  'price': 5,\n",
              "  'quantity': 228,\n",
              "  'type': 'snack'}}"
            ]
          },
          "metadata": {},
          "execution_count": 2
        }
      ]
    },
    {
      "cell_type": "markdown",
      "metadata": {
        "id": "gEmH2aMR-rKP"
      },
      "source": [
        "Purchase"
      ]
    },
    {
      "cell_type": "code",
      "metadata": {
        "id": "jiNoEp2oDVPN"
      },
      "source": [
        "\n",
        "sales = {}\n",
        "tr_id = 1"
      ],
      "execution_count": 11,
      "outputs": []
    },
    {
      "cell_type": "code",
      "metadata": {
        "colab": {
          "base_uri": "https://localhost:8080/"
        },
        "id": "Dmji6Om0-wM0",
        "outputId": "8f0cfaa4-075a-4f37-cd5e-d1a103476be2"
      },
      "source": [
        "total_amt = []\n",
        "while True:\n",
        "  ui_prod  = str(input(\"Enter the product_Id: \"))\n",
        "  ui_quant = int(input(\"Enter the quantity: \"))\n",
        "\n",
        "  num = records[ui_prod]['quantity']\n",
        "  if (num>=ui_quant):\n",
        "    print(\"Product: \", records[ui_prod]['name'])\n",
        "    print(\"Price: \", records[ui_prod]['price'])\n",
        "    amt = records[ui_prod]['price'] * ui_quant\n",
        "    print(\"Billing Amount: \", amt)\n",
        "    total_amt.append(amt)\n",
        "    sales[tr_id] = {'prod' : ui_prod, 'qn' : ui_quant, 'amount': records[ui_prod]['price'] * ui_quant} \n",
        "    tr_id += 1\n",
        "    records[ui_prod]['quantity'] = records[ui_prod]['quantity'] - ui_quant\n",
        "    # sales = { len(sales)+1 : {'prod' : ui_prod, 'qn' : ui_quant, 'amount': records[ui_prod]['price'] * ui_quant} }\n",
        "\n",
        "  else:\n",
        "    print(\"sorry we are out of stock\")\n",
        "\n",
        "  op = input(\"Do you want continue shopping (Y/N):\")\n",
        "  if (op == \"N\"):\n",
        "    print(\"Hope to see you again!:)\")\n",
        "    break\n",
        "\n",
        "total = 0\n",
        "for ele in range (0, len(total_amt)):\n",
        "    total = total + total_amt[ele]\n",
        "print(\"Total billing price \", total)\n",
        "# print(sales)"
      ],
      "execution_count": 20,
      "outputs": [
        {
          "output_type": "stream",
          "name": "stdout",
          "text": [
            "Enter the product_Id: 12019\n",
            "Enter the quantity: 2\n",
            "Product:  Maxx\n",
            "Price:  20\n",
            "Billing Amount:  40\n",
            "Do you want continue shopping (Y/N):\n",
            "Enter the product_Id: 12018\n",
            "Enter the quantity: 1\n",
            "Product:  Pringles\n",
            "Price:  20\n",
            "Billing Amount:  20\n",
            "Do you want continue shopping (Y/N):\n",
            "Enter the product_Id: 12028\n",
            "Enter the quantity: 2\n",
            "Product:  Mad-angles\n",
            "Price:  10\n",
            "Billing Amount:  20\n",
            "Do you want continue shopping (Y/N):\n",
            "Enter the product_Id: 12023\n",
            "Enter the quantity: 1\n",
            "Product:  Cadbury\n",
            "Price:  20\n",
            "Billing Amount:  20\n",
            "Do you want continue shopping (Y/N):N\n",
            "Hope to see you again!:)\n",
            "Total billing price  100\n"
          ]
        }
      ]
    },
    {
      "cell_type": "markdown",
      "metadata": {
        "id": "m84ItCJRAVXD"
      },
      "source": [
        "Update"
      ]
    },
    {
      "cell_type": "code",
      "metadata": {
        "id": "HaWZkcytAZmB"
      },
      "source": [
        "js = json.dumps(records)\n",
        "\n",
        "fd = open(\"record.json\",'w')\n",
        "fd.write(js)\n",
        "fd.close()"
      ],
      "execution_count": 21,
      "outputs": []
    },
    {
      "cell_type": "markdown",
      "metadata": {
        "id": "tEeGZXCrAgnb"
      },
      "source": [
        "Sales"
      ]
    },
    {
      "cell_type": "code",
      "metadata": {
        "id": "gFo-MxnJAiPR"
      },
      "source": [
        "sale = json.dumps(sales)\n",
        "\n",
        "fd = open(\"sale.json\",'w')\n",
        "fd.write(sale)\n",
        "fd.close()"
      ],
      "execution_count": 22,
      "outputs": []
    }
  ]
}