{
  "nbformat": 4,
  "nbformat_minor": 0,
  "metadata": {
    "colab": {
      "name": "Adding_new_products.ipynb",
      "provenance": []
    },
    "kernelspec": {
      "name": "python3",
      "display_name": "Python 3"
    },
    "language_info": {
      "name": "python"
    }
  },
  "cells": [
    {
      "cell_type": "markdown",
      "metadata": {
        "id": "OWLecLPYxwyc"
      },
      "source": [
        "Read Data From Json"
      ]
    },
    {
      "cell_type": "code",
      "metadata": {
        "id": "SZlA2r4ZyF41"
      },
      "source": [
        "import json\n",
        "\n",
        "fd = open(\"record.json\",'r')\n",
        "r = fd.read()\n",
        "fd.close()\n",
        "\n",
        "record = json.loads(r)"
      ],
      "execution_count": null,
      "outputs": []
    },
    {
      "cell_type": "code",
      "metadata": {
        "colab": {
          "base_uri": "https://localhost:8080/"
        },
        "id": "MawFeHfnyPZu",
        "outputId": "9356d313-1a92-4cf9-f341-ec510156c868"
      },
      "source": [
        "for i in record:\n",
        "  print(i,record[i]['name'],record[i]['quantity'])"
      ],
      "execution_count": null,
      "outputs": [
        {
          "output_type": "stream",
          "name": "stdout",
          "text": [
            "12001 Kit-kat 43\n",
            "12002 5-star 50\n",
            "12003 Kit-kat 40\n",
            "12004 Milk 20\n",
            "12005 Drink 55\n",
            "12006 Parle-G 72\n",
            "12007 Parle-G 50\n",
            "12008 Bourbon 65\n",
            "12009 Jim-Jam 62\n",
            "12010 Jim-Jam 40\n",
            "12011 Bread 30\n",
            "12012 Kurkure 29\n",
            "12013 kurkure 60\n",
            "12014 Lays 44\n",
            "12015 Lays 31\n",
            "12016 Bingo 55\n",
            "12017 Too-Yum 43\n",
            "12018 Pringles 52\n",
            "12019 Maxx 55\n",
            "12020 cheese 38\n",
            "12021 Butter 65\n",
            "12022 Doritos 45\n",
            "12023 Cadbury 40\n",
            "12024 Cadbury 39\n",
            "12025 Cadbury 25\n",
            "12026 Milky-bar 45\n",
            "12027 Solid-masti 25\n",
            "12028 Mad-angles 58\n",
            "12029 Perk 46\n",
            "12030 Bourn-vita 38\n",
            "12031 Butter 397\n",
            "12032 Candy 23\n"
          ]
        }
      ]
    },
    {
      "cell_type": "markdown",
      "metadata": {
        "id": "7JTZZEkjyiDs"
      },
      "source": [
        "Adding New Item to Inventory"
      ]
    },
    {
      "cell_type": "code",
      "metadata": {
        "colab": {
          "base_uri": "https://localhost:8080/"
        },
        "id": "J_fF_XicyriA",
        "outputId": "9568ed77-92ec-4bdf-dc78-b696c273b1ef"
      },
      "source": [
        "while True:\n",
        "  prod_id = str(input(\"Enter product id:\"))\n",
        "  qn = int(input(\"Enter quantity:\"))\n",
        "\n",
        "# This is one way to solve the problem\n",
        "# ids = list(record.keys())\n",
        "# num = ids.count(prod_id)\n",
        "\n",
        "# if (num ==0):\n",
        "#   name = str(input(\"Enter name:\"))\n",
        "#   pr = int(input(\"Enter price:\"))\n",
        "#   exp_date = str(input(\"Enter expiry date:\"))\n",
        "#   typ = str(input(\"Enter type:\"))\n",
        "#   record[prod_id] = {'name': name, 'price': pr, 'Exp-date': exp_date, 'quantity': qn, 'type': typ}\n",
        "# else:\n",
        "#   new_qn = record[prod_id]['quantity'] + qn\n",
        "#   record[prod_id] = {'name': name, 'price': pr, 'Exp-date': exp_date, 'quantity': new_qn, }\n",
        " \n",
        "# This is another approach \n",
        "  if prod_id not in record.keys():\n",
        "    name = (input(\"Enter name:\"))\n",
        "    pr = int(input(\"Enter price:\"))\n",
        "    exp_date = input(\"Enter expiry date:\")\n",
        "    typ = input(\"Enter type:\")\n",
        "    record[prod_id] = {'name': name, 'price': pr, 'Exp-date': exp_date, 'quantity': qn, 'type': typ}\n",
        "  else:\n",
        "    new_qn = record[prod_id]['quantity'] + qn\n",
        "    # record[prod_id] = {'name': name, 'price': pr, 'Exp-date': exp_date, 'quantity': new_qn, 'type': typ}\n",
        "    record[prod_id]['quantity'] =  new_qn\n",
        "\n",
        "  js = json.dumps(record)\n",
        "\n",
        "  fd = open(\"record.json\",'w')\n",
        "  fd.write(js)\n",
        "  fd.close()\n",
        "\n",
        "  op = input(\"Want to add more? (Y/N):\")\n",
        "  if (op == \"N\"):\n",
        "    break\n",
        "\n",
        "\n",
        "\n"
      ],
      "execution_count": 21,
      "outputs": [
        {
          "name": "stdout",
          "output_type": "stream",
          "text": [
            "Enter product id:12004\n",
            "Enter quantity:2\n",
            "Want to add more? (Y/N):N\n"
          ]
        }
      ]
    },
    {
      "cell_type": "code",
      "metadata": {
        "colab": {
          "base_uri": "https://localhost:8080/"
        },
        "id": "lP-0JnMY9O_5",
        "outputId": "fbe821a4-2767-492f-e9ea-076dc48efe5c"
      },
      "source": [
        "record['12004']"
      ],
      "execution_count": null,
      "outputs": [
        {
          "output_type": "execute_result",
          "data": {
            "text/plain": [
              "{'Exp-date': '9/21',\n",
              " 'name': 'Milk',\n",
              " 'price': 58,\n",
              " 'quantity': 41,\n",
              " 'type': 'milk-product'}"
            ]
          },
          "metadata": {},
          "execution_count": 19
        }
      ]
    }
  ]
}